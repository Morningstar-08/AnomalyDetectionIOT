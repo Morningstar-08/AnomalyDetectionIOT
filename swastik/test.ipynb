{
 "cells": [
  {
   "cell_type": "code",
   "execution_count": 1,
   "metadata": {},
   "outputs": [],
   "source": [
    "import numpy as np\n",
    "import pandas as pd \n",
    "import os"
   ]
  },
  {
   "cell_type": "code",
   "execution_count": 2,
   "metadata": {},
   "outputs": [
    {
     "name": "stdout",
     "output_type": "stream",
     "text": [
      "done\n"
     ]
    }
   ],
   "source": [
    "directory = \".././changed\"\n",
    "print(\"done\")\n",
    "processed_datasets = {}"
   ]
  },
  {
   "cell_type": "code",
   "execution_count": 3,
   "metadata": {},
   "outputs": [],
   "source": [
    "encoded_attacks = {0: \"Benign\", 1:\"DDos ACK Frag\", 2: \"DDoS Http flood\", 3: \"DDoS icmp flood\", 4: \"DDos icmp frag\", 5: \"Dictionary brute force\", 6: \"DNS spoofing\", 7: \"mirai greeth flood\", 8: \"MitM arp spoofing\", 9: \"SQL injection\", 10: \"Uploading attack\", 11: \"Vulnerability scan\", 12: \"xss\" }"
   ]
  },
  {
   "cell_type": "code",
   "execution_count": 4,
   "metadata": {},
   "outputs": [],
   "source": [
    "seed = 42\n",
    "fraction= 0.15 # fraction of the dataset to be taken"
   ]
  },
  {
   "cell_type": "code",
   "execution_count": 5,
   "metadata": {},
   "outputs": [],
   "source": [
    "def process_dataset(dataset_path, labels_path, dataset_name):\n",
    "    dataset = pd.read_csv(dataset_path)\n",
    "    print(\"read dataset: \", dataset_path)\n",
    "    labels = pd.read_csv(labels_path)\n",
    "    labels.rename(columns={'x': 'labels'}, inplace=True)\n",
    "    dataset = pd.concat([labels, dataset], axis=1)\n",
    "    dataset = dataset.sample(frac=fraction, random_state=seed)\n",
    "    return dataset"
   ]
  },
  {
   "cell_type": "code",
   "execution_count": 6,
   "metadata": {},
   "outputs": [],
   "source": [
    "datasets = [\"benign_combined.csv\",\n",
    "            \"ddos_ack_frag_combined.csv\",\n",
    "            \"ddos_http_flood_combined.csv\",\n",
    "            \"ddos_icmp_flood_combined.csv\",\n",
    "            \"ddos_icmp_frag_combined.csv\",\n",
    "            \"dict_brute_force_combined.csv\",\n",
    "            \"dns_spoofing_combined.csv\",\n",
    "            \"mirai_greeth_flood_combined.csv\",\n",
    "            \"mitm_arp_spoof_combined.csv\",\n",
    "            \"sql_injection_combined.csv\",\n",
    "            \"uploading_attack_combined.csv\",\n",
    "            \"vulnerability_scan_combined.csv\",\n",
    "            \"xss_combined.csv\"\n",
    "           ]\n",
    "labels = [\"benign_combined.csv\",\n",
    "            \"ddos_ack_frag_combined.csv\",\n",
    "            \"ddos_http_flood_combined.csv\",\n",
    "            \"ddos_icmp_flood_combined.csv\",\n",
    "            \"ddos_icmp_frag_combined.csv\",\n",
    "            \"dict_brute_force_combined.csv\",\n",
    "            \"dns_spoofing_combined.csv\",\n",
    "            \"mirai_greeth_flood_combined.csv\",\n",
    "            \"mitm_arp_spoof_combined.csv\",\n",
    "            \"sql_injection_combined.csv\",\n",
    "            \"uploading_attack_combined.csv\",\n",
    "            \"vulnerability_scan_combined.csv\",\n",
    "            \"xss_combined.csv\"\n",
    "           ]"
   ]
  },
  {
   "cell_type": "code",
   "execution_count": 7,
   "metadata": {},
   "outputs": [
    {
     "name": "stdout",
     "output_type": "stream",
     "text": [
      "processing:  Benign .././changed/benign_combined.csv .././changed/benign_combined.csv\n",
      "read dataset:  .././changed/benign_combined.csv\n",
      "processing:  DDos ACK Frag .././changed/ddos_ack_frag_combined.csv .././changed/ddos_ack_frag_combined.csv\n",
      "read dataset:  .././changed/ddos_ack_frag_combined.csv\n",
      "processing:  DDoS Http flood .././changed/ddos_http_flood_combined.csv .././changed/ddos_http_flood_combined.csv\n",
      "read dataset:  .././changed/ddos_http_flood_combined.csv\n",
      "processing:  DDoS icmp flood .././changed/ddos_icmp_flood_combined.csv .././changed/ddos_icmp_flood_combined.csv\n",
      "read dataset:  .././changed/ddos_icmp_flood_combined.csv\n",
      "processing:  DDos icmp frag .././changed/ddos_icmp_frag_combined.csv .././changed/ddos_icmp_frag_combined.csv\n",
      "read dataset:  .././changed/ddos_icmp_frag_combined.csv\n",
      "processing:  Dictionary brute force .././changed/dict_brute_force_combined.csv .././changed/dict_brute_force_combined.csv\n",
      "read dataset:  .././changed/dict_brute_force_combined.csv\n",
      "processing:  DNS spoofing .././changed/dns_spoofing_combined.csv .././changed/dns_spoofing_combined.csv\n",
      "read dataset:  .././changed/dns_spoofing_combined.csv\n",
      "processing:  mirai greeth flood .././changed/mirai_greeth_flood_combined.csv .././changed/mirai_greeth_flood_combined.csv\n",
      "read dataset:  .././changed/mirai_greeth_flood_combined.csv\n",
      "processing:  MitM arp spoofing .././changed/mitm_arp_spoof_combined.csv .././changed/mitm_arp_spoof_combined.csv\n",
      "read dataset:  .././changed/mitm_arp_spoof_combined.csv\n",
      "processing:  SQL injection .././changed/sql_injection_combined.csv .././changed/sql_injection_combined.csv\n",
      "read dataset:  .././changed/sql_injection_combined.csv\n",
      "processing:  Uploading attack .././changed/uploading_attack_combined.csv .././changed/uploading_attack_combined.csv\n",
      "read dataset:  .././changed/uploading_attack_combined.csv\n",
      "processing:  Vulnerability scan .././changed/vulnerability_scan_combined.csv .././changed/vulnerability_scan_combined.csv\n",
      "read dataset:  .././changed/vulnerability_scan_combined.csv\n",
      "processing:  xss .././changed/xss_combined.csv .././changed/xss_combined.csv\n",
      "read dataset:  .././changed/xss_combined.csv\n"
     ]
    }
   ],
   "source": [
    "dataset_array = []\n",
    "if not os.path.exists(\".././working/combined_dataset.csv\"):\n",
    "    for index, (dataset_path, labels_path) in enumerate(zip(datasets, labels)):\n",
    "        dataset_path = directory + \"/\" + dataset_path\n",
    "        labels_path = directory + \"/\" + labels_path\n",
    "        name = encoded_attacks[index]\n",
    "        print(\"processing: \", name, dataset_path, labels_path)    \n",
    "        result = process_dataset(dataset_path, labels_path, name)\n",
    "        #result.to_csv(\"/kaggle/working/\" + name + \".csv\", index=False)\n",
    "        result['Label'] = result['Label'].replace(1, index+1)\n",
    "        dataset_array.append(result)"
   ]
  },
  {
   "cell_type": "code",
   "execution_count": 8,
   "metadata": {},
   "outputs": [],
   "source": [
    "combined_dataset = pd.concat(dataset_array, ignore_index=True)"
   ]
  },
  {
   "cell_type": "code",
   "execution_count": 9,
   "metadata": {},
   "outputs": [],
   "source": [
    "combined_dataset = combined_dataset.iloc[:, :84]"
   ]
  },
  {
   "cell_type": "code",
   "execution_count": 10,
   "metadata": {},
   "outputs": [],
   "source": [
    "combined_dataset.dropna(subset=['Label'], inplace=True)\n",
    "combined_dataset.fillna(0, inplace=True)"
   ]
  },
  {
   "cell_type": "code",
   "execution_count": 11,
   "metadata": {},
   "outputs": [],
   "source": [
    "combined_dataset = combined_dataset.sample(frac=1, random_state=seed)"
   ]
  },
  {
   "cell_type": "code",
   "execution_count": 13,
   "metadata": {},
   "outputs": [],
   "source": [
    "combined_dataset.to_csv(\".././working/combined_dataset.csv\", index=False)\n"
   ]
  },
  {
   "cell_type": "code",
   "execution_count": 14,
   "metadata": {},
   "outputs": [
    {
     "data": {
      "text/plain": [
       "(697749, 84)"
      ]
     },
     "execution_count": 14,
     "metadata": {},
     "output_type": "execute_result"
    }
   ],
   "source": [
    "combined_dataset.shape"
   ]
  }
 ],
 "metadata": {
  "kernelspec": {
   "display_name": "Python 3",
   "language": "python",
   "name": "python3"
  },
  "language_info": {
   "codemirror_mode": {
    "name": "ipython",
    "version": 3
   },
   "file_extension": ".py",
   "mimetype": "text/x-python",
   "name": "python",
   "nbconvert_exporter": "python",
   "pygments_lexer": "ipython3",
   "version": "3.10.11"
  }
 },
 "nbformat": 4,
 "nbformat_minor": 2
}
