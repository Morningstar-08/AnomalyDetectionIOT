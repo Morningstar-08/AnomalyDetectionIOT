{
 "cells": [
  {
   "cell_type": "code",
   "execution_count": 1,
   "metadata": {},
   "outputs": [],
   "source": [
    "import pandas as pd\n",
    "import numpy as np\n",
    "from sklearn.model_selection import train_test_split\n",
    "from sklearn.preprocessing import LabelEncoder, StandardScaler\n",
    "from sklearn.ensemble import RandomForestClassifier\n",
    "from xgboost import XGBClassifier\n",
    "from sklearn.metrics import accuracy_score, classification_report"
   ]
  },
  {
   "cell_type": "code",
   "execution_count": 5,
   "metadata": {},
   "outputs": [],
   "source": [
    "df = pd.read_csv(\".././working/combined_dataset.csv\")\n",
    "\n",
    "# Drop non-numeric columns (except 'Label')\n",
    "non_numeric_cols = [\"Flow ID\", \"Src IP\", \"Dst IP\", \"Timestamp\"]\n",
    "df = df.drop(columns=non_numeric_cols, errors='ignore')\n",
    "\n",
    "# Encode categorical label (Label)\n",
    "label_encoder = LabelEncoder()\n",
    "df[\"Label\"] = label_encoder.fit_transform(df[\"Label\"])"
   ]
  },
  {
   "cell_type": "code",
   "execution_count": 11,
   "metadata": {},
   "outputs": [],
   "source": [
    "scaler = StandardScaler()\n",
    "X = df.drop(columns=[\"Label\"])\n",
    "y = df[\"Label\"].values\n",
    "df.replace([np.inf, -np.inf], np.nan, inplace=True)\n",
    "# Fill NaN values with the mean of the column\n",
    "df.fillna(df.mean(), inplace=True)\n",
    "X_scaled = scaler.fit_transform(X)\n",
    "\n",
    "# Train-Test Split\n",
    "X_train, X_test, y_train, y_test = train_test_split(X_scaled, y, test_size=0.2, random_state=42)"
   ]
  },
  {
   "cell_type": "code",
   "execution_count": 12,
   "metadata": {},
   "outputs": [
    {
     "name": "stderr",
     "output_type": "stream",
     "text": [
      "c:\\Users\\swast\\AppData\\Local\\Programs\\Python\\Python310\\lib\\site-packages\\xgboost\\core.py:158: UserWarning: [09:46:35] WARNING: C:\\buildkite-agent\\builds\\buildkite-windows-cpu-autoscaling-group-i-0c55ff5f71b100e98-1\\xgboost\\xgboost-ci-windows\\src\\learner.cc:740: \n",
      "Parameters: { \"use_label_encoder\" } are not used.\n",
      "\n",
      "  warnings.warn(smsg, UserWarning)\n"
     ]
    }
   ],
   "source": [
    "rf_model = RandomForestClassifier(n_estimators=100, random_state=42)\n",
    "rf_model.fit(X_train, y_train)\n",
    "rf_preds = rf_model.predict(X_test)\n",
    "\n",
    "# (B) XGBoost Classifier\n",
    "xgb_model = XGBClassifier(use_label_encoder=False, eval_metric=\"mlogloss\")\n",
    "xgb_model.fit(X_train, y_train)\n",
    "xgb_preds = xgb_model.predict(X_test)"
   ]
  },
  {
   "cell_type": "code",
   "execution_count": 13,
   "metadata": {},
   "outputs": [
    {
     "name": "stdout",
     "output_type": "stream",
     "text": [
      "🎯 Random Forest Accuracy: 0.8366893586528126\n",
      "                    precision    recall  f1-score   support\n",
      "\n",
      "            benign       0.63      0.72      0.67     12050\n",
      "     ddos_ack_frag       0.98      0.97      0.97     73457\n",
      "   ddos_http_flood       0.99      0.98      0.98     15141\n",
      "   ddos_icmp_flood       0.49      0.50      0.49      6053\n",
      "    ddos_icmp_frag       0.51      0.52      0.52      9190\n",
      "  dict_brute_force       0.07      0.05      0.06        95\n",
      "      dns_spoofing       0.54      0.42      0.47      2213\n",
      "mirai_greeth_flood       0.48      0.43      0.45      5294\n",
      "    mitm_arp_spoof       0.57      0.47      0.52      2490\n",
      "     sql_injection       0.27      0.16      0.20       189\n",
      "  uploading_attack       0.43      0.26      0.32        39\n",
      "vulnerability_scan       0.72      0.74      0.73     13241\n",
      "               xss       0.31      0.16      0.21        98\n",
      "\n",
      "          accuracy                           0.84    139550\n",
      "         macro avg       0.54      0.49      0.51    139550\n",
      "      weighted avg       0.84      0.84      0.84    139550\n",
      "\n",
      "\n",
      "🎯 XGBoost Accuracy: 0.8403224650662845\n",
      "                    precision    recall  f1-score   support\n",
      "\n",
      "            benign       0.57      0.82      0.67     12050\n",
      "     ddos_ack_frag       0.99      0.96      0.98     73457\n",
      "   ddos_http_flood       0.99      0.98      0.99     15141\n",
      "   ddos_icmp_flood       0.52      0.44      0.48      6053\n",
      "    ddos_icmp_frag       0.51      0.53      0.52      9190\n",
      "  dict_brute_force       0.42      0.08      0.14        95\n",
      "      dns_spoofing       0.78      0.40      0.53      2213\n",
      "mirai_greeth_flood       0.53      0.43      0.48      5294\n",
      "    mitm_arp_spoof       0.63      0.47      0.54      2490\n",
      "     sql_injection       0.59      0.22      0.32       189\n",
      "  uploading_attack       0.92      0.28      0.43        39\n",
      "vulnerability_scan       0.71      0.73      0.72     13241\n",
      "               xss       0.79      0.19      0.31        98\n",
      "\n",
      "          accuracy                           0.84    139550\n",
      "         macro avg       0.69      0.50      0.55    139550\n",
      "      weighted avg       0.85      0.84      0.84    139550\n",
      "\n"
     ]
    }
   ],
   "source": [
    "print(\"🎯 Random Forest Accuracy:\", accuracy_score(y_test, rf_preds))\n",
    "print(classification_report(y_test, rf_preds, target_names=label_encoder.classes_))\n",
    "\n",
    "print(\"\\n🎯 XGBoost Accuracy:\", accuracy_score(y_test, xgb_preds))\n",
    "print(classification_report(y_test, xgb_preds, target_names=label_encoder.classes_))"
   ]
  }
 ],
 "metadata": {
  "kernelspec": {
   "display_name": "Python 3",
   "language": "python",
   "name": "python3"
  },
  "language_info": {
   "codemirror_mode": {
    "name": "ipython",
    "version": 3
   },
   "file_extension": ".py",
   "mimetype": "text/x-python",
   "name": "python",
   "nbconvert_exporter": "python",
   "pygments_lexer": "ipython3",
   "version": "3.10.11"
  }
 },
 "nbformat": 4,
 "nbformat_minor": 2
}
